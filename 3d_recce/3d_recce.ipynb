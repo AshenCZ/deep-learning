{
  "nbformat": 4,
  "nbformat_minor": 0,
  "metadata": {
    "colab": {
      "name": "3d-recce",
      "version": "0.3.2",
      "views": {},
      "default_view": {},
      "provenance": [
        {
          "file_id": "1nPnlIIsQeMpJjFMdyPMkD82pZZOOtlMJ",
          "timestamp": 1523307237275
        },
        {
          "file_id": "1ZSFO6VeCLaQ6A4JGUyhUC-P3-3hrimLl",
          "timestamp": 1522828165410
        }
      ],
      "collapsed_sections": [],
      "toc_visible": true
    },
    "kernelspec": {
      "name": "python3",
      "display_name": "Python 3"
    },
    "accelerator": "GPU"
  },
  "cells": [
    {
      "metadata": {
        "id": "-Q920qN8sa-3",
        "colab_type": "text"
      },
      "cell_type": "markdown",
      "source": [
        "### Tensorboard and data setup"
      ]
    },
    {
      "metadata": {
        "id": "cHKsM-D5soBD",
        "colab_type": "code",
        "colab": {
          "autoexec": {
            "startup": false,
            "wait_interval": 0
          },
          "base_uri": "https://localhost:8080/",
          "height": 68
        },
        "outputId": "e07de1c4-1326-4247-a539-0d7b893effb9",
        "executionInfo": {
          "status": "ok",
          "timestamp": 1523307786966,
          "user_tz": -120,
          "elapsed": 2660,
          "user": {
            "displayName": "Štěpán Hojdar",
            "photoUrl": "//lh4.googleusercontent.com/-5rDXA_8cvxY/AAAAAAAAAAI/AAAAAAAAAJE/98aexWZzxoA/s50-c-k-no/photo.jpg",
            "userId": "102759379961150890704"
          }
        }
      },
      "cell_type": "code",
      "source": [
        "# Data, clone git\n",
        "!git clone https://ashencz:@github.com/AshenCZ/deep-learning.git\n",
        "\n",
        "# Change dir to the project\n",
        "# TODO: Change directory of project\n",
        "%cd ./deep-learning/3d_recce\n",
        "!ls"
      ],
      "execution_count": 2,
      "outputs": [
        {
          "output_type": "stream",
          "text": [
            "fatal: destination path 'deep-learning' already exists and is not an empty directory.\r\n",
            "/content/deep-learning/3d_recce\n",
            "logs  modelnet20-test.npz  modelnet20-train.npz\n"
          ],
          "name": "stdout"
        }
      ]
    },
    {
      "metadata": {
        "id": "-JlYBtcDsljH",
        "colab_type": "code",
        "colab": {
          "autoexec": {
            "startup": false,
            "wait_interval": 0
          },
          "base_uri": "https://localhost:8080/",
          "height": 119
        },
        "outputId": "1e3ad294-edf2-43cb-b295-19b365ddfa0b",
        "executionInfo": {
          "status": "ok",
          "timestamp": 1523311894519,
          "user_tz": -120,
          "elapsed": 4752,
          "user": {
            "displayName": "Štěpán Hojdar",
            "photoUrl": "//lh4.googleusercontent.com/-5rDXA_8cvxY/AAAAAAAAAAI/AAAAAAAAAJE/98aexWZzxoA/s50-c-k-no/photo.jpg",
            "userId": "102759379961150890704"
          }
        }
      },
      "cell_type": "code",
      "source": [
        "# Tensorboard\n",
        "\n",
        "!git clone https://github.com/mixuala/colab_utils.git\n",
        "\n",
        "import os\n",
        "import colab_utils.tboard\n",
        "\n",
        "# set paths\n",
        "ROOT = %pwd\n",
        "LOG_DIR = os.path.join(ROOT, 'logs')\n",
        "print(ROOT, LOG_DIR)\n",
        "\n",
        "# will install `ngrok`, if necessary\n",
        "# will create `log_dir` if path does not exist\n",
        "colab_utils.tboard.launch_tensorboard( bin_dir=ROOT, log_dir=LOG_DIR )"
      ],
      "execution_count": 36,
      "outputs": [
        {
          "output_type": "stream",
          "text": [
            "fatal: destination path 'colab_utils' already exists and is not an empty directory.\r\n",
            "/content/deep-learning/3d_recce /content/deep-learning/3d_recce/logs\n",
            "ngrok installed\n",
            "status: tensorboard=True, ngrok=False\n",
            "tensorboard url= https://6b587b83.ngrok.io\n"
          ],
          "name": "stdout"
        },
        {
          "output_type": "execute_result",
          "data": {
            "text/plain": [
              "'https://6b587b83.ngrok.io'"
            ]
          },
          "metadata": {
            "tags": []
          },
          "execution_count": 36
        }
      ]
    },
    {
      "metadata": {
        "id": "nVxCJM3uftYz",
        "colab_type": "code",
        "colab": {
          "autoexec": {
            "startup": false,
            "wait_interval": 0
          }
        }
      },
      "cell_type": "code",
      "source": [
        "# Find out how much GPU memory you have left\n",
        "\n",
        "# memory footprint support libraries/code\n",
        "!ln -sf /opt/bin/nvidia-smi /usr/bin/nvidia-smi\n",
        "!pip install gputil\n",
        "!pip install psutil\n",
        "!pip install humanize\n",
        "import psutil\n",
        "import humanize\n",
        "import os\n",
        "import GPUtil as GPU\n",
        "GPUs = GPU.getGPUs()\n",
        "# XXX: only one GPU on Colab and isn’t guaranteed\n",
        "gpu = GPUs[0]\n",
        "def printm():\n",
        " process = psutil.Process(os.getpid())\n",
        " print(\"Gen RAM Free: \" + humanize.naturalsize( psutil.virtual_memory().available ), \" I Proc size: \" + humanize.naturalsize( process.memory_info().rss))\n",
        " print(\"GPU RAM Free: {0:.0f}MB | Used: {1:.0f}MB | Util {2:3.0f}% | Total {3:.0f}MB\".format(gpu.memoryFree, gpu.memoryUsed, gpu.memoryUtil*100, gpu.memoryTotal))\n",
        "printm()"
      ],
      "execution_count": 0,
      "outputs": []
    },
    {
      "metadata": {
        "id": "86w6IklEs15Q",
        "colab_type": "text"
      },
      "cell_type": "markdown",
      "source": [
        "## Code"
      ]
    },
    {
      "metadata": {
        "id": "8eACbaGZLqxX",
        "colab_type": "code",
        "colab": {
          "autoexec": {
            "startup": false,
            "wait_interval": 0
          }
        }
      },
      "cell_type": "code",
      "source": [
        "#!/usr/bin/env python3\n",
        "import numpy as np\n",
        "import tensorflow as tf\n",
        "\n",
        "class Args(object):\n",
        "  pass"
      ],
      "execution_count": 0,
      "outputs": []
    },
    {
      "metadata": {
        "id": "PrTRJWdAwHHw",
        "colab_type": "code",
        "colab": {
          "autoexec": {
            "startup": false,
            "wait_interval": 0
          }
        }
      },
      "cell_type": "code",
      "source": [
        "class Dataset:\n",
        "    def __init__(self, filename, shuffle_batches = True):\n",
        "        data = np.load(filename)\n",
        "        self._voxels = data[\"voxels\"]\n",
        "        self._labels = data[\"labels\"] if \"labels\" in data else None\n",
        "\n",
        "        self._shuffle_batches = shuffle_batches\n",
        "        self._new_permutation()\n",
        "\n",
        "    def _new_permutation(self):\n",
        "        if self._shuffle_batches:\n",
        "            self._permutation = np.random.permutation(len(self._voxels))\n",
        "        else:\n",
        "            self._permutation = np.arange(len(self._voxels))\n",
        "\n",
        "    def split(self, ratio):\n",
        "        split = int(len(self._voxels) * ratio)\n",
        "\n",
        "        first, second = Dataset.__new__(Dataset), Dataset.__new__(Dataset)\n",
        "        first._voxels, second._voxels = self._voxels[:split], self._voxels[split:]\n",
        "        if self._labels is not None:\n",
        "            first._labels, second._labels = self._labels[:split], self._labels[split:]\n",
        "        else:\n",
        "            first._labels, second._labels = None, None\n",
        "\n",
        "        for dataset in [first, second]:\n",
        "            dataset._shuffle_batches = self._shuffle_batches\n",
        "            dataset._new_permutation()\n",
        "\n",
        "        return first, second\n",
        "\n",
        "    @property\n",
        "    def voxels(self):\n",
        "        return self._voxels\n",
        "\n",
        "    @property\n",
        "    def labels(self):\n",
        "        return self._labels\n",
        "\n",
        "    def next_batch(self, batch_size):\n",
        "        batch_size = min(batch_size, len(self._permutation))\n",
        "        batch_perm, self._permutation = self._permutation[:batch_size], self._permutation[batch_size:]\n",
        "        return self._voxels[batch_perm], self._labels[batch_perm] if self._labels is not None else None\n",
        "\n",
        "    def epoch_finished(self):\n",
        "        if len(self._permutation) == 0:\n",
        "            self._new_permutation()\n",
        "            return True\n",
        "        return False\n",
        "\n"
      ],
      "execution_count": 0,
      "outputs": []
    },
    {
      "metadata": {
        "id": "EGDSJT2UuUhb",
        "colab_type": "text"
      },
      "cell_type": "markdown",
      "source": [
        "### Network"
      ]
    },
    {
      "metadata": {
        "id": "Wr_KRGVrtERQ",
        "colab_type": "code",
        "colab": {
          "autoexec": {
            "startup": false,
            "wait_interval": 0
          }
        }
      },
      "cell_type": "code",
      "source": [
        "class Network:\n",
        "    LABELS = 10\n",
        "\n",
        "    def __init__(self, threads, seed=42):\n",
        "        # Create an empty graph and a session\n",
        "        graph = tf.Graph()\n",
        "        graph.seed = seed\n",
        "        self.session = tf.Session(graph = graph, config=tf.ConfigProto(inter_op_parallelism_threads=threads,\n",
        "                                                                       intra_op_parallelism_threads=threads))\n",
        "\n",
        "    def parse_architecture(self, arch):\n",
        "        layers = arch.split(\",\")\n",
        "        result = []\n",
        "        for l in layers:\n",
        "            params = l.split(\"-\")\n",
        "            parsed_args = [int(x) if x.isdigit() else x for x in params[1:]]\n",
        "            result.append((params[0], parsed_args))\n",
        "        print(result)\n",
        "        return result\n",
        "\n",
        "    def construct(self, args):\n",
        "        with self.session.graph.as_default():\n",
        "            # Inputs\n",
        "            self.voxels = tf.placeholder(\n",
        "                tf.float32, [None, args.modelnet_dim, args.modelnet_dim, args.modelnet_dim, 1], name=\"voxels\")\n",
        "            self.labels = tf.placeholder(tf.int64, [None], name=\"labels\")\n",
        "            self.is_training = tf.placeholder(tf.bool, [], name=\"is_training\")\n",
        "\n",
        "            global_step = tf.train.create_global_step()\n",
        "            last_layer = self.voxels\n",
        "\n",
        "            archi = self.parse_architecture(args.cnn)\n",
        "            for (name, params) in archi:\n",
        "                if name == \"F\": last_layer = tf.layers.flatten(last_layer)\n",
        "                elif name == \"R\": last_layer = tf.layers.dense(last_layer, units=params[0], activation=tf.nn.relu)\n",
        "                elif name == \"D\": last_layer = tf.layers.dropout(last_layer, rate=0.5, training=self.is_training)\n",
        "                elif name == \"C\": last_layer = tf.layers.conv3d(last_layer, filters=params[0], kernel_size=params[1], strides=params[2], padding=params[3], activation=tf.nn.relu)\n",
        "                elif name == \"M\": last_layer = tf.layers.max_pooling3d(last_layer, pool_size=params[0], strides=params[1])\n",
        "                elif name == \"CB\":\n",
        "                    last_layer = tf.layers.conv3d(last_layer, filters=params[0], kernel_size=params[1], strides=params[2], padding=params[3], activation=None, use_bias=False)\n",
        "                    last_layer = tf.layers.batch_normalization(last_layer, training=self.is_training)\n",
        "                    last_layer = tf.nn.relu(last_layer)\n",
        "                else:\n",
        "                    raise Exception(\"What.\")\n",
        "\n",
        "            pred_layer = tf.layers.dense(last_layer, units=10, activation=tf.nn.relu)            \n",
        "            self.predictions = tf.argmax(pred_layer, axis=1)  # shape [None] and type tf.int64\n",
        "\n",
        "            # Training\n",
        "            learning_rate = tf.train.exponential_decay(args.learning_rate, global_step, batches_per_epoch, (args.learning_rate_final / args.learning_rate) ** (1/(args.epochs-1)), True)\n",
        "            loss = tf.losses.sparse_softmax_cross_entropy(self.labels, pred_layer, scope=\"loss_pred\")\n",
        "\n",
        "            # Update normalizations\n",
        "            with tf.control_dependencies(tf.get_collection(tf.GraphKeys.UPDATE_OPS)):\n",
        "                self.training = tf.train.AdamOptimizer(learning_rate).minimize(loss, global_step=global_step, name=\"training\")\n",
        "            \n",
        "            # Summaries\n",
        "            self.accuracy = tf.reduce_mean(tf.cast(tf.equal(self.labels, self.predictions), tf.float32))\n",
        "            summary_writer = tf.contrib.summary.create_file_writer(args.logdir, flush_millis=10 * 1000)\n",
        "            self.summaries = {}\n",
        "            with summary_writer.as_default(), tf.contrib.summary.record_summaries_every_n_global_steps(8):\n",
        "                self.summaries[\"train\"] = [tf.contrib.summary.scalar(\"train/loss\", loss),\n",
        "                                           tf.contrib.summary.scalar(\"train/accuracy\", self.accuracy)]\n",
        "            with summary_writer.as_default(), tf.contrib.summary.always_record_summaries():\n",
        "                for dataset in [\"dev\", \"test\"]:\n",
        "                    self.summaries[dataset] = [tf.contrib.summary.scalar(dataset + \"/loss\", loss),\n",
        "                                               tf.contrib.summary.scalar(dataset + \"/accuracy\", self.accuracy)]\n",
        "\n",
        "            # Initialize variables\n",
        "            self.session.run(tf.global_variables_initializer())\n",
        "            with summary_writer.as_default():\n",
        "                tf.contrib.summary.initialize(session=self.session, graph=self.session.graph)\n",
        "\n",
        "    def train(self, voxels, labels):\n",
        "        self.session.run([self.training, self.summaries[\"train\"]], {self.voxels: voxels, self.labels: labels, self.is_training: True})\n",
        "\n",
        "    def evaluate(self, dataset, voxels, labels):\n",
        "        accuracy, _ = self.session.run([self.accuracy, self.summaries[dataset]], {self.voxels: voxels, self.labels: labels, self.is_training: False})\n",
        "        return accuracy\n",
        "\n",
        "    def predict(self, voxels):\n",
        "        return self.session.run(self.predictions, {self.voxels: voxels, self.is_training: False})\n"
      ],
      "execution_count": 0,
      "outputs": []
    },
    {
      "metadata": {
        "id": "Q9B8aQP7uW8Y",
        "colab_type": "text"
      },
      "cell_type": "markdown",
      "source": [
        "### Training"
      ]
    },
    {
      "metadata": {
        "id": "E7o3JTLXOVUm",
        "colab_type": "code",
        "colab": {
          "autoexec": {
            "startup": false,
            "wait_interval": 0
          },
          "base_uri": "https://localhost:8080/",
          "height": 2648
        },
        "outputId": "6dc29b8a-da12-48fc-8a85-202681d607be",
        "executionInfo": {
          "status": "error",
          "timestamp": 1523312563182,
          "user_tz": -120,
          "elapsed": 665317,
          "user": {
            "displayName": "Štěpán Hojdar",
            "photoUrl": "//lh4.googleusercontent.com/-5rDXA_8cvxY/AAAAAAAAAAI/AAAAAAAAAJE/98aexWZzxoA/s50-c-k-no/photo.jpg",
            "userId": "102759379961150890704"
          }
        }
      },
      "cell_type": "code",
      "source": [
        "import datetime\n",
        "import os\n",
        "import re\n",
        "\n",
        "# Fix random seed\n",
        "np.random.seed(42)\n",
        "\n",
        "# Parse arguments\n",
        "args = Args()\n",
        "args.epochs = 80\n",
        "args.threads = 4    \n",
        "args.batch_size = 128\n",
        "args.learning_rate = 0.001\n",
        "args.learning_rate_final = 0.0001\n",
        "args.modelnet_dim = 20\n",
        "args.cnn = \"CB-32-3-1-same,CB-32-3-1-same,M-3-2,CB-64-3-1-same,CB-64-3-1-same,M-3-2,CB-128-3-1-same,M-3-2,F,R-4096,D\"\n",
        "args.train_split = 0.9   \n",
        "\n",
        "# Create logdir name\n",
        "args.logdir = \"logs/{}-{}-{}\".format(\n",
        "    os.path.basename(\"./\"),\n",
        "    datetime.datetime.now().strftime(\"%Y-%m-%d_%H%M%S\"),\n",
        "    \",\".join((\"{}={}\".format(re.sub(\"(.)[^_]*_?\", r\"\\1\", key), value) for key, value in sorted(vars(args).items())))\n",
        ")\n",
        "if not os.path.exists(\"logs\"): os.mkdir(\"logs\") # TF 1.6 will do this by itself\n",
        "\n",
        "# Load the data\n",
        "train, dev = Dataset(\"modelnet{}-train.npz\".format(args.modelnet_dim)).split(args.train_split)\n",
        "test = Dataset(\"modelnet{}-test.npz\".format(args.modelnet_dim), shuffle_batches=False)\n",
        "\n",
        "# Construct the network\n",
        "print(\"Lens:\",len(train.labels), len(dev.labels))\n",
        "batches_per_epoch = len(train.labels) // args.batch_size\n",
        "network = Network(threads=args.threads)\n",
        "network.construct(args)\n",
        "\n",
        "# Train\n",
        "for i in range(args.epochs):\n",
        "    print(\"Training epoch\",i)\n",
        "    while not train.epoch_finished():\n",
        "        voxels, labels = train.next_batch(args.batch_size)\n",
        "        network.train(voxels, labels)\n",
        "\n",
        "    acc = network.evaluate(\"dev\", dev.voxels, dev.labels)\n",
        "    print(\"Dev at\",i,\":\",acc)\n",
        "\n",
        "# # Predict test data\n",
        "#with open(\"{}/3d_recognition_test.txt\".format(args.logdir), \"w\") as test_file:\n",
        "#    while not test.epoch_finished():\n",
        "#        voxels, _ = test.next_batch(args.batch_size)\n",
        "#        labels = network.predict(voxels)\n",
        "\n",
        "        #for label in labels:\n",
        "         #   print(label, file=test_file)\n"
      ],
      "execution_count": 37,
      "outputs": [
        {
          "output_type": "stream",
          "text": [
            "Lens: 3591 400\n",
            "[('CB', [32, 3, 1, 'same']), ('CB', [32, 3, 1, 'same']), ('M', [3, 2]), ('CB', [64, 3, 1, 'same']), ('CB', [64, 3, 1, 'same']), ('M', [3, 2]), ('CB', [128, 3, 1, 'same']), ('M', [3, 2]), ('F', []), ('R', [4096]), ('D', [])]\n",
            "Training epoch 0\n",
            "Dev at 0 : 0.17\n",
            "Training epoch 1\n",
            "Dev at 1 : 0.3775\n",
            "Training epoch 2\n",
            "Dev at 2 : 0.1\n",
            "Training epoch 3\n",
            "Dev at 3 : 0.1\n",
            "Training epoch 4\n",
            "Dev at 4 : 0.1\n",
            "Training epoch 5\n",
            "Dev at 5 : 0.1\n",
            "Training epoch 6\n",
            "Dev at 6 : 0.1\n",
            "Training epoch 7\n",
            "Dev at 7 : 0.1\n",
            "Training epoch 8\n",
            "Dev at 8 : 0.1\n",
            "Training epoch 9\n",
            "Dev at 9 : 0.1\n",
            "Training epoch 10\n",
            "Dev at 10 : 0.4075\n",
            "Training epoch 11\n",
            "Dev at 11 : 0.2875\n",
            "Training epoch 12\n",
            "Dev at 12 : 0.27\n",
            "Training epoch 13\n",
            "Dev at 13 : 0.3975\n",
            "Training epoch 14\n",
            "Dev at 14 : 0.4075\n",
            "Training epoch 15\n",
            "Dev at 15 : 0.475\n",
            "Training epoch 16\n",
            "Dev at 16 : 0.4825\n",
            "Training epoch 17\n",
            "Dev at 17 : 0.5125\n",
            "Training epoch 18\n",
            "Dev at 18 : 0.5225\n",
            "Training epoch 19\n",
            "Dev at 19 : 0.525\n",
            "Training epoch 20\n",
            "Dev at 20 : 0.5475\n",
            "Training epoch 21\n",
            "Dev at 21 : 0.5425\n",
            "Training epoch 22\n",
            "Dev at 22 : 0.5475\n",
            "Training epoch 23\n",
            "Dev at 23 : 0.5325\n",
            "Training epoch 24\n",
            "Dev at 24 : 0.49\n",
            "Training epoch 25\n",
            "Dev at 25 : 0.5475\n",
            "Training epoch 26\n",
            "Dev at 26 : 0.5425\n",
            "Training epoch 27\n",
            "Dev at 27 : 0.55\n",
            "Training epoch 28\n",
            "Dev at 28 : 0.55\n",
            "Training epoch 29\n",
            "Dev at 29 : 0.55\n",
            "Training epoch 30\n",
            "Dev at 30 : 0.5475\n",
            "Training epoch 31\n",
            "Dev at 31 : 0.5475\n",
            "Training epoch 32\n",
            "Dev at 32 : 0.545\n",
            "Training epoch 33\n",
            "Dev at 33 : 0.5525\n",
            "Training epoch 34\n",
            "Dev at 34 : 0.5475\n",
            "Training epoch 35\n",
            "Dev at 35 : 0.54\n",
            "Training epoch 36\n",
            "Dev at 36 : 0.5425\n",
            "Training epoch 37\n",
            "Dev at 37 : 0.5475\n",
            "Training epoch 38\n",
            "Dev at 38 : 0.5475\n",
            "Training epoch 39\n",
            "Dev at 39 : 0.55\n",
            "Training epoch 40\n",
            "Dev at 40 : 0.5475\n",
            "Training epoch 41\n",
            "Dev at 41 : 0.5475\n",
            "Training epoch 42\n",
            "Dev at 42 : 0.5425\n",
            "Training epoch 43\n",
            "Dev at 43 : 0.5475\n",
            "Training epoch 44\n",
            "Dev at 44 : 0.545\n",
            "Training epoch 45\n",
            "Dev at 45 : 0.545\n",
            "Training epoch 46\n",
            "Dev at 46 : 0.545\n",
            "Training epoch 47\n",
            "Dev at 47 : 0.5475\n",
            "Training epoch 48\n"
          ],
          "name": "stdout"
        },
        {
          "output_type": "error",
          "ename": "KeyboardInterrupt",
          "evalue": "ignored",
          "traceback": [
            "\u001b[0;31m---------------------------------------------------------------------------\u001b[0m",
            "\u001b[0;31mKeyboardInterrupt\u001b[0m                         Traceback (most recent call last)",
            "\u001b[0;32m<ipython-input-37-a024f73a0f46>\u001b[0m in \u001b[0;36m<module>\u001b[0;34m()\u001b[0m\n\u001b[1;32m     40\u001b[0m     \u001b[0;32mwhile\u001b[0m \u001b[0;32mnot\u001b[0m \u001b[0mtrain\u001b[0m\u001b[0;34m.\u001b[0m\u001b[0mepoch_finished\u001b[0m\u001b[0;34m(\u001b[0m\u001b[0;34m)\u001b[0m\u001b[0;34m:\u001b[0m\u001b[0;34m\u001b[0m\u001b[0m\n\u001b[1;32m     41\u001b[0m         \u001b[0mvoxels\u001b[0m\u001b[0;34m,\u001b[0m \u001b[0mlabels\u001b[0m \u001b[0;34m=\u001b[0m \u001b[0mtrain\u001b[0m\u001b[0;34m.\u001b[0m\u001b[0mnext_batch\u001b[0m\u001b[0;34m(\u001b[0m\u001b[0margs\u001b[0m\u001b[0;34m.\u001b[0m\u001b[0mbatch_size\u001b[0m\u001b[0;34m)\u001b[0m\u001b[0;34m\u001b[0m\u001b[0m\n\u001b[0;32m---> 42\u001b[0;31m         \u001b[0mnetwork\u001b[0m\u001b[0;34m.\u001b[0m\u001b[0mtrain\u001b[0m\u001b[0;34m(\u001b[0m\u001b[0mvoxels\u001b[0m\u001b[0;34m,\u001b[0m \u001b[0mlabels\u001b[0m\u001b[0;34m)\u001b[0m\u001b[0;34m\u001b[0m\u001b[0m\n\u001b[0m\u001b[1;32m     43\u001b[0m \u001b[0;34m\u001b[0m\u001b[0m\n\u001b[1;32m     44\u001b[0m     \u001b[0macc\u001b[0m \u001b[0;34m=\u001b[0m \u001b[0mnetwork\u001b[0m\u001b[0;34m.\u001b[0m\u001b[0mevaluate\u001b[0m\u001b[0;34m(\u001b[0m\u001b[0;34m\"dev\"\u001b[0m\u001b[0;34m,\u001b[0m \u001b[0mdev\u001b[0m\u001b[0;34m.\u001b[0m\u001b[0mvoxels\u001b[0m\u001b[0;34m,\u001b[0m \u001b[0mdev\u001b[0m\u001b[0;34m.\u001b[0m\u001b[0mlabels\u001b[0m\u001b[0;34m)\u001b[0m\u001b[0;34m\u001b[0m\u001b[0m\n",
            "\u001b[0;32m<ipython-input-9-54d9183a1167>\u001b[0m in \u001b[0;36mtrain\u001b[0;34m(self, voxels, labels)\u001b[0m\n\u001b[1;32m     73\u001b[0m \u001b[0;34m\u001b[0m\u001b[0m\n\u001b[1;32m     74\u001b[0m     \u001b[0;32mdef\u001b[0m \u001b[0mtrain\u001b[0m\u001b[0;34m(\u001b[0m\u001b[0mself\u001b[0m\u001b[0;34m,\u001b[0m \u001b[0mvoxels\u001b[0m\u001b[0;34m,\u001b[0m \u001b[0mlabels\u001b[0m\u001b[0;34m)\u001b[0m\u001b[0;34m:\u001b[0m\u001b[0;34m\u001b[0m\u001b[0m\n\u001b[0;32m---> 75\u001b[0;31m         \u001b[0mself\u001b[0m\u001b[0;34m.\u001b[0m\u001b[0msession\u001b[0m\u001b[0;34m.\u001b[0m\u001b[0mrun\u001b[0m\u001b[0;34m(\u001b[0m\u001b[0;34m[\u001b[0m\u001b[0mself\u001b[0m\u001b[0;34m.\u001b[0m\u001b[0mtraining\u001b[0m\u001b[0;34m,\u001b[0m \u001b[0mself\u001b[0m\u001b[0;34m.\u001b[0m\u001b[0msummaries\u001b[0m\u001b[0;34m[\u001b[0m\u001b[0;34m\"train\"\u001b[0m\u001b[0;34m]\u001b[0m\u001b[0;34m]\u001b[0m\u001b[0;34m,\u001b[0m \u001b[0;34m{\u001b[0m\u001b[0mself\u001b[0m\u001b[0;34m.\u001b[0m\u001b[0mvoxels\u001b[0m\u001b[0;34m:\u001b[0m \u001b[0mvoxels\u001b[0m\u001b[0;34m,\u001b[0m \u001b[0mself\u001b[0m\u001b[0;34m.\u001b[0m\u001b[0mlabels\u001b[0m\u001b[0;34m:\u001b[0m \u001b[0mlabels\u001b[0m\u001b[0;34m,\u001b[0m \u001b[0mself\u001b[0m\u001b[0;34m.\u001b[0m\u001b[0mis_training\u001b[0m\u001b[0;34m:\u001b[0m \u001b[0;32mTrue\u001b[0m\u001b[0;34m}\u001b[0m\u001b[0;34m)\u001b[0m\u001b[0;34m\u001b[0m\u001b[0m\n\u001b[0m\u001b[1;32m     76\u001b[0m \u001b[0;34m\u001b[0m\u001b[0m\n\u001b[1;32m     77\u001b[0m     \u001b[0;32mdef\u001b[0m \u001b[0mevaluate\u001b[0m\u001b[0;34m(\u001b[0m\u001b[0mself\u001b[0m\u001b[0;34m,\u001b[0m \u001b[0mdataset\u001b[0m\u001b[0;34m,\u001b[0m \u001b[0mvoxels\u001b[0m\u001b[0;34m,\u001b[0m \u001b[0mlabels\u001b[0m\u001b[0;34m)\u001b[0m\u001b[0;34m:\u001b[0m\u001b[0;34m\u001b[0m\u001b[0m\n",
            "\u001b[0;32m/usr/local/lib/python3.6/dist-packages/tensorflow/python/client/session.py\u001b[0m in \u001b[0;36mrun\u001b[0;34m(self, fetches, feed_dict, options, run_metadata)\u001b[0m\n\u001b[1;32m    903\u001b[0m     \u001b[0;32mtry\u001b[0m\u001b[0;34m:\u001b[0m\u001b[0;34m\u001b[0m\u001b[0m\n\u001b[1;32m    904\u001b[0m       result = self._run(None, fetches, feed_dict, options_ptr,\n\u001b[0;32m--> 905\u001b[0;31m                          run_metadata_ptr)\n\u001b[0m\u001b[1;32m    906\u001b[0m       \u001b[0;32mif\u001b[0m \u001b[0mrun_metadata\u001b[0m\u001b[0;34m:\u001b[0m\u001b[0;34m\u001b[0m\u001b[0m\n\u001b[1;32m    907\u001b[0m         \u001b[0mproto_data\u001b[0m \u001b[0;34m=\u001b[0m \u001b[0mtf_session\u001b[0m\u001b[0;34m.\u001b[0m\u001b[0mTF_GetBuffer\u001b[0m\u001b[0;34m(\u001b[0m\u001b[0mrun_metadata_ptr\u001b[0m\u001b[0;34m)\u001b[0m\u001b[0;34m\u001b[0m\u001b[0m\n",
            "\u001b[0;32m/usr/local/lib/python3.6/dist-packages/tensorflow/python/client/session.py\u001b[0m in \u001b[0;36m_run\u001b[0;34m(self, handle, fetches, feed_dict, options, run_metadata)\u001b[0m\n\u001b[1;32m   1135\u001b[0m     \u001b[0;32mif\u001b[0m \u001b[0mfinal_fetches\u001b[0m \u001b[0;32mor\u001b[0m \u001b[0mfinal_targets\u001b[0m \u001b[0;32mor\u001b[0m \u001b[0;34m(\u001b[0m\u001b[0mhandle\u001b[0m \u001b[0;32mand\u001b[0m \u001b[0mfeed_dict_tensor\u001b[0m\u001b[0;34m)\u001b[0m\u001b[0;34m:\u001b[0m\u001b[0;34m\u001b[0m\u001b[0m\n\u001b[1;32m   1136\u001b[0m       results = self._do_run(handle, final_targets, final_fetches,\n\u001b[0;32m-> 1137\u001b[0;31m                              feed_dict_tensor, options, run_metadata)\n\u001b[0m\u001b[1;32m   1138\u001b[0m     \u001b[0;32melse\u001b[0m\u001b[0;34m:\u001b[0m\u001b[0;34m\u001b[0m\u001b[0m\n\u001b[1;32m   1139\u001b[0m       \u001b[0mresults\u001b[0m \u001b[0;34m=\u001b[0m \u001b[0;34m[\u001b[0m\u001b[0;34m]\u001b[0m\u001b[0;34m\u001b[0m\u001b[0m\n",
            "\u001b[0;32m/usr/local/lib/python3.6/dist-packages/tensorflow/python/client/session.py\u001b[0m in \u001b[0;36m_do_run\u001b[0;34m(self, handle, target_list, fetch_list, feed_dict, options, run_metadata)\u001b[0m\n\u001b[1;32m   1353\u001b[0m     \u001b[0;32mif\u001b[0m \u001b[0mhandle\u001b[0m \u001b[0;32mis\u001b[0m \u001b[0;32mNone\u001b[0m\u001b[0;34m:\u001b[0m\u001b[0;34m\u001b[0m\u001b[0m\n\u001b[1;32m   1354\u001b[0m       return self._do_call(_run_fn, self._session, feeds, fetches, targets,\n\u001b[0;32m-> 1355\u001b[0;31m                            options, run_metadata)\n\u001b[0m\u001b[1;32m   1356\u001b[0m     \u001b[0;32melse\u001b[0m\u001b[0;34m:\u001b[0m\u001b[0;34m\u001b[0m\u001b[0m\n\u001b[1;32m   1357\u001b[0m       \u001b[0;32mreturn\u001b[0m \u001b[0mself\u001b[0m\u001b[0;34m.\u001b[0m\u001b[0m_do_call\u001b[0m\u001b[0;34m(\u001b[0m\u001b[0m_prun_fn\u001b[0m\u001b[0;34m,\u001b[0m \u001b[0mself\u001b[0m\u001b[0;34m.\u001b[0m\u001b[0m_session\u001b[0m\u001b[0;34m,\u001b[0m \u001b[0mhandle\u001b[0m\u001b[0;34m,\u001b[0m \u001b[0mfeeds\u001b[0m\u001b[0;34m,\u001b[0m \u001b[0mfetches\u001b[0m\u001b[0;34m)\u001b[0m\u001b[0;34m\u001b[0m\u001b[0m\n",
            "\u001b[0;32m/usr/local/lib/python3.6/dist-packages/tensorflow/python/client/session.py\u001b[0m in \u001b[0;36m_do_call\u001b[0;34m(self, fn, *args)\u001b[0m\n\u001b[1;32m   1359\u001b[0m   \u001b[0;32mdef\u001b[0m \u001b[0m_do_call\u001b[0m\u001b[0;34m(\u001b[0m\u001b[0mself\u001b[0m\u001b[0;34m,\u001b[0m \u001b[0mfn\u001b[0m\u001b[0;34m,\u001b[0m \u001b[0;34m*\u001b[0m\u001b[0margs\u001b[0m\u001b[0;34m)\u001b[0m\u001b[0;34m:\u001b[0m\u001b[0;34m\u001b[0m\u001b[0m\n\u001b[1;32m   1360\u001b[0m     \u001b[0;32mtry\u001b[0m\u001b[0;34m:\u001b[0m\u001b[0;34m\u001b[0m\u001b[0m\n\u001b[0;32m-> 1361\u001b[0;31m       \u001b[0;32mreturn\u001b[0m \u001b[0mfn\u001b[0m\u001b[0;34m(\u001b[0m\u001b[0;34m*\u001b[0m\u001b[0margs\u001b[0m\u001b[0;34m)\u001b[0m\u001b[0;34m\u001b[0m\u001b[0m\n\u001b[0m\u001b[1;32m   1362\u001b[0m     \u001b[0;32mexcept\u001b[0m \u001b[0merrors\u001b[0m\u001b[0;34m.\u001b[0m\u001b[0mOpError\u001b[0m \u001b[0;32mas\u001b[0m \u001b[0me\u001b[0m\u001b[0;34m:\u001b[0m\u001b[0;34m\u001b[0m\u001b[0m\n\u001b[1;32m   1363\u001b[0m       \u001b[0mmessage\u001b[0m \u001b[0;34m=\u001b[0m \u001b[0mcompat\u001b[0m\u001b[0;34m.\u001b[0m\u001b[0mas_text\u001b[0m\u001b[0;34m(\u001b[0m\u001b[0me\u001b[0m\u001b[0;34m.\u001b[0m\u001b[0mmessage\u001b[0m\u001b[0;34m)\u001b[0m\u001b[0;34m\u001b[0m\u001b[0m\n",
            "\u001b[0;32m/usr/local/lib/python3.6/dist-packages/tensorflow/python/client/session.py\u001b[0m in \u001b[0;36m_run_fn\u001b[0;34m(session, feed_dict, fetch_list, target_list, options, run_metadata)\u001b[0m\n\u001b[1;32m   1338\u001b[0m         \u001b[0;32melse\u001b[0m\u001b[0;34m:\u001b[0m\u001b[0;34m\u001b[0m\u001b[0m\n\u001b[1;32m   1339\u001b[0m           return tf_session.TF_Run(session, options, feed_dict, fetch_list,\n\u001b[0;32m-> 1340\u001b[0;31m                                    target_list, status, run_metadata)\n\u001b[0m\u001b[1;32m   1341\u001b[0m \u001b[0;34m\u001b[0m\u001b[0m\n\u001b[1;32m   1342\u001b[0m     \u001b[0;32mdef\u001b[0m \u001b[0m_prun_fn\u001b[0m\u001b[0;34m(\u001b[0m\u001b[0msession\u001b[0m\u001b[0;34m,\u001b[0m \u001b[0mhandle\u001b[0m\u001b[0;34m,\u001b[0m \u001b[0mfeed_dict\u001b[0m\u001b[0;34m,\u001b[0m \u001b[0mfetch_list\u001b[0m\u001b[0;34m)\u001b[0m\u001b[0;34m:\u001b[0m\u001b[0;34m\u001b[0m\u001b[0m\n",
            "\u001b[0;31mKeyboardInterrupt\u001b[0m: "
          ]
        }
      ]
    },
    {
      "metadata": {
        "id": "e0bQ_ABP1_Ks",
        "colab_type": "text"
      },
      "cell_type": "markdown",
      "source": [
        "### Test set evaluation"
      ]
    },
    {
      "metadata": {
        "id": "oCJTmbya1qeJ",
        "colab_type": "code",
        "colab": {
          "autoexec": {
            "startup": false,
            "wait_interval": 0
          },
          "base_uri": "https://localhost:8080/",
          "height": 34
        },
        "outputId": "1114ff10-c743-43c8-eb0e-f9882c3c77cf",
        "executionInfo": {
          "status": "ok",
          "timestamp": 1523310527254,
          "user_tz": -120,
          "elapsed": 1090,
          "user": {
            "displayName": "Štěpán Hojdar",
            "photoUrl": "//lh4.googleusercontent.com/-5rDXA_8cvxY/AAAAAAAAAAI/AAAAAAAAAJE/98aexWZzxoA/s50-c-k-no/photo.jpg",
            "userId": "102759379961150890704"
          }
        }
      },
      "cell_type": "code",
      "source": [
        "# Predict test data\n",
        "print(\"3d_recognition_test.txt\")\n",
        "with open(\"3d_recognition_test.txt\", \"w\") as test_file:\n",
        "    while not test.epoch_finished():\n",
        "        voxels, _ = test.next_batch(args.batch_size)\n",
        "        labels = network.predict(voxels)\n",
        "\n",
        "        for label in labels:\n",
        "            print(label, file=test_file)"
      ],
      "execution_count": 29,
      "outputs": [
        {
          "output_type": "stream",
          "text": [
            "3d_recognition_test.txt\n"
          ],
          "name": "stdout"
        }
      ]
    },
    {
      "metadata": {
        "id": "odIRXYbl592M",
        "colab_type": "code",
        "colab": {
          "autoexec": {
            "startup": false,
            "wait_interval": 0
          },
          "base_uri": "https://localhost:8080/",
          "height": 51
        },
        "outputId": "e0c4b9a9-eac8-4fa7-fd21-3016ae0086e7",
        "executionInfo": {
          "status": "ok",
          "timestamp": 1523310712463,
          "user_tz": -120,
          "elapsed": 2331,
          "user": {
            "displayName": "Štěpán Hojdar",
            "photoUrl": "//lh4.googleusercontent.com/-5rDXA_8cvxY/AAAAAAAAAAI/AAAAAAAAAJE/98aexWZzxoA/s50-c-k-no/photo.jpg",
            "userId": "102759379961150890704"
          }
        }
      },
      "cell_type": "code",
      "source": [
        "# Download the ouput data\n",
        "!ls\n",
        "files.download('3d_recognition_test.txt')"
      ],
      "execution_count": 31,
      "outputs": [
        {
          "output_type": "stream",
          "text": [
            "3d_recognition_test.txt  logs\t\t      modelnet20-train.npz\r\n",
            "colab_utils\t\t modelnet20-test.npz  ngrok\r\n"
          ],
          "name": "stdout"
        }
      ]
    },
    {
      "metadata": {
        "id": "sBgBJ6wPGo_c",
        "colab_type": "text"
      },
      "cell_type": "markdown",
      "source": [
        "## The rest"
      ]
    },
    {
      "metadata": {
        "id": "nZn6H5JW8y7Q",
        "colab_type": "code",
        "colab": {
          "autoexec": {
            "startup": false,
            "wait_interval": 0
          }
        }
      },
      "cell_type": "code",
      "source": [
        "# Blank for tests\n",
        "# !kill -9 -1\n",
        "\n",
        "#file = \"/events.out.tfevents.1522837908.bac2a7f9746a.v2\"\n",
        "\n",
        "#%cd logs/\n",
        "#!ls\n",
        "#!mv events.out.tfevents.1522837908.bac2a7f9746a.v2 a.txt\n",
        "\n",
        "from google.colab import files\n",
        "files.download(\"a.txt\")"
      ],
      "execution_count": 0,
      "outputs": []
    },
    {
      "metadata": {
        "id": "syr9qfZTTEyl",
        "colab_type": "code",
        "colab": {
          "autoexec": {
            "startup": false,
            "wait_interval": 0
          },
          "base_uri": "https://localhost:8080/",
          "height": 445
        },
        "outputId": "02408f91-a7f5-4ed4-d78c-dd2e06495b24",
        "executionInfo": {
          "status": "ok",
          "timestamp": 1523312698261,
          "user_tz": -120,
          "elapsed": 8069,
          "user": {
            "displayName": "Štěpán Hojdar",
            "photoUrl": "//lh4.googleusercontent.com/-5rDXA_8cvxY/AAAAAAAAAAI/AAAAAAAAAJE/98aexWZzxoA/s50-c-k-no/photo.jpg",
            "userId": "102759379961150890704"
          }
        }
      },
      "cell_type": "code",
      "source": [
        "!git config --global user.email \"you@example.com\"\n",
        "!git config --global user.name \"Your Name\"\n",
        "!git commit -m \"Bamboozling logs.\"\n",
        "!git push https://ashencz:@github.com/AshenCZ/deep-learning.git/"
      ],
      "execution_count": 42,
      "outputs": [
        {
          "output_type": "stream",
          "text": [
            "[master 22f9a03] Bamboozling logs.\r\n",
            " 14 files changed, 908 insertions(+)\r\n",
            " create mode 100644 3d_recce/logs/-2018-04-09_210645-bs=256,c=C-8-3-1-same,M-2-2,C-16-3-1-same,M-2-2,F,R-512,D,e=20,lr=0.001,lrf=0.0002,md=20,t=4,ts=0.75/events.out.tfevents.1523308007.c0203b8ed32d.v2\r\n",
            " create mode 100644 3d_recce/logs/-2018-04-09_210759-bs=256,c=C-8-3-1-same,C-8-3-1-same,M-3-2,C-16-3-1-same,C-16-3-1-same,M-2-2,F,R-512,D,e=20,lr=0.001,lrf=0.0002,md=20,t=4,ts=0.75/events.out.tfevents.1523308080.c0203b8ed32d.v2\r\n",
            " create mode 100644 3d_recce/logs/-2018-04-09_210918-bs=256,c=CB-8-3-1-same,CB-8-3-1-same,M-2-2,CB-16-3-1-same,CB-16-3-1-same,M-2-2,F,R-512,D,e=20,lr=0.001,lrf=0.0002,md=20,t=4,ts=0.75/events.out.tfevents.1523308159.c0203b8ed32d.v2\r\n",
            " create mode 100644 3d_recce/logs/-2018-04-09_211147-bs=256,c=CB-8-3-1-same,CB-8-3-1-same,M-2-2,CB-16-3-1-same,CB-16-3-1-same,M-2-2,F,R-512,D,e=50,lr=0.001,lrf=0.0002,md=20,t=4,ts=0.75/events.out.tfevents.1523308309.c0203b8ed32d.v2\r\n",
            " create mode 100644 3d_recce/logs/-2018-04-09_211612-bs=256,c=CB-8-3-1-same,CB-8-3-1-same,M-2-2,CB-16-3-1-same,CB-16-3-1-same,M-2-2,CB-32-3-1-same,M-2-2,F,R-1024,D,e=50,lr=0.001,lrf=0.0002,md=20,t=4,ts=0.75/events.out.tfevents.1523308574.c0203b8ed32d.v2\r\n",
            " create mode 100644 3d_recce/logs/-2018-04-09_212029-bs=256,c=CB-8-3-1-same,CB-8-3-1-same,M-2-2,CB-16-3-1-same,CB-16-3-1-same,M-2-2,CB-32-3-1-same,M-2-2,CB-64-3-1-same,M-2-2,F,R-1024,D,e=80,lr=0.001,lrf=0.0002,md=20,t=4,ts=0.75/events.out.tfevents.1523308831.c0203b8ed32d.v2\r\n",
            " create mode 100644 3d_recce/logs/-2018-04-09_212607-bs=128,c=CB-8-3-1-same,CB-8-3-1-same,M-2-2,CB-16-3-1-same,CB-16-3-1-same,M-2-2,CB-32-3-1-same,M-2-2,CB-64-3-1-same,M-2-2,F,R-1024,D,e=80,lr=0.001,lrf=0.0001,md=20,t=4,ts=0.75/events.out.tfevents.1523309169.c0203b8ed32d.v2\r\n",
            " create mode 100644 3d_recce/logs/-2018-04-09_213126-bs=128,c=CB-16-3-1-same,CB-16-3-1-same,M-2-2,CB-32-3-1-same,CB-32-3-1-same,M-2-2,CB-64-3-1-same,M-2-2,CB-128-3-1-same,M-2-2,F,R-1024,D,e=80,lr=0.001,lrf=0.0001,md=20,t=4,ts=0.75/events.out.tfevents.1523309488.c0203b8ed32d.v2\r\n",
            " create mode 100644 3d_recce/logs/-2018-04-09_213502-bs=128,c=CB-16-3-1-same,CB-16-3-1-same,M-3-2,CB-32-3-1-same,CB-32-3-1-same,M-3-2,CB-64-3-1-same,M-3-2,F,R-1024,D,e=80,lr=0.001,lrf=0.0001,md=20,t=4,ts=0.75/3d_recognition_test.txt\r\n",
            " create mode 100644 3d_recce/logs/-2018-04-09_213502-bs=128,c=CB-16-3-1-same,CB-16-3-1-same,M-3-2,CB-32-3-1-same,CB-32-3-1-same,M-3-2,CB-64-3-1-same,M-3-2,F,R-1024,D,e=80,lr=0.001,lrf=0.0001,md=20,t=4,ts=0.75/events.out.tfevents.1523309703.c0203b8ed32d.v2\r\n",
            " create mode 100644 3d_recce/logs/-2018-04-09_215612-bs=128,c=CB-16-3-1-same,CB-16-3-1-same,M-3-2,CB-32-3-1-same,CB-32-3-1-same,M-3-2,CB-64-3-1-same,M-3-2,F,R-1024,D,e=80,lr=0.001,lrf=0.0001,md=20,t=4,ts=0.94/events.out.tfevents.1523310973.c0203b8ed32d.v2\r\n",
            " create mode 100644 3d_recce/logs/-2018-04-09_220513-bs=128,c=C-16-3-1-same,C-16-3-1-same,M-3-2,C-32-3-1-same,C-32-3-1-same,M-3-2,C-64-3-1-same,M-3-2,F,R-1024,D,e=80,lr=0.001,lrf=0.0001,md=20,t=4,ts=0.9/events.out.tfevents.1523311514.c0203b8ed32d.v2\r\n",
            " create mode 100644 3d_recce/logs/-2018-04-09_221040-bs=128,c=C-32-3-1-same,C-32-3-1-same,M-3-2,C-64-3-1-same,C-64-3-1-same,M-3-2,C-128-3-1-same,M-3-2,F,R-4096,D,e=80,lr=0.001,lrf=0.0001,md=20,t=4,ts=0.9/events.out.tfevents.1523311841.c0203b8ed32d.v2\r\n",
            " create mode 100644 3d_recce/logs/-2018-04-09_221136-bs=128,c=CB-32-3-1-same,CB-32-3-1-same,M-3-2,CB-64-3-1-same,CB-64-3-1-same,M-3-2,CB-128-3-1-same,M-3-2,F,R-4096,D,e=80,lr=0.001,lrf=0.0001,md=20,t=4,ts=0.9/events.out.tfevents.1523311898.c0203b8ed32d.v2\n",
            "Counting objects: 31, done.\n",
            "Delta compression using up to 2 threads.\n",
            "Compressing objects: 100% (31/31), done.\n",
            "Writing objects: 100% (31/31), 327.37 KiB | 2.73 MiB/s, done.\n",
            "Total 31 (delta 13), reused 0 (delta 0)\n",
            "remote: Resolving deltas: 100% (13/13), completed with 1 local object.\u001b[K\n",
            "To https://github.com/AshenCZ/deep-learning.git/\n",
            "   556771d..22f9a03  master -> master\n"
          ],
          "name": "stdout"
        }
      ]
    },
    {
      "metadata": {
        "id": "TsBj4VAS_Sii",
        "colab_type": "code",
        "colab": {
          "autoexec": {
            "startup": false,
            "wait_interval": 0
          },
          "resources": {
            "http://localhost:8080/nbextensions/google.colab/files.js": {
              "data": "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",
              "ok": true,
              "headers": [
                [
                  "content-type",
                  "application/javascript"
                ]
              ],
              "status": 200,
              "status_text": ""
            }
          },
          "base_uri": "https://localhost:8080/",
          "height": 89
        },
        "outputId": "e5f7115a-53e5-41bb-a28c-d277c109316e",
        "executionInfo": {
          "status": "ok",
          "timestamp": 1522851077010,
          "user_tz": -120,
          "elapsed": 19176,
          "user": {
            "displayName": "Štěpán Hojdar",
            "photoUrl": "//lh4.googleusercontent.com/-5rDXA_8cvxY/AAAAAAAAAAI/AAAAAAAAAJE/98aexWZzxoA/s50-c-k-no/photo.jpg",
            "userId": "102759379961150890704"
          }
        }
      },
      "cell_type": "code",
      "source": [
        "from google.colab import files\n",
        "\n",
        "uploaded = files.upload()\n",
        "\n",
        "for fn in uploaded.keys():\n",
        "  print('User uploaded file \"{name}\" with length {length} bytes'.format(\n",
        "      name=fn, length=len(uploaded[fn])))"
      ],
      "execution_count": 0,
      "outputs": [
        {
          "output_type": "display_data",
          "data": {
            "text/html": [
              "\n",
              "     <input type=\"file\" id=\"files-c74dbbfd-0204-4fc0-ab9e-c23616fa4f38\" name=\"files[]\" multiple disabled />\n",
              "     <output id=\"result-c74dbbfd-0204-4fc0-ab9e-c23616fa4f38\">\n",
              "      Upload widget is only available when the cell has been executed in the\n",
              "      current browser session. Please rerun this cell to enable.\n",
              "      </output>\n",
              "      <script src=\"/nbextensions/google.colab/files.js\"></script> "
            ],
            "text/plain": [
              "<IPython.core.display.HTML object>"
            ]
          },
          "metadata": {
            "tags": []
          }
        },
        {
          "output_type": "stream",
          "text": [
            "Saving events.out.tfevents.1522837908.bac2a7f9746a.v2 to events.out.tfevents.1522837908.bac2a7f9746a.v2\n",
            "User uploaded file \"events.out.tfevents.1522837908.bac2a7f9746a.v2\" with length 873750 bytes\n"
          ],
          "name": "stdout"
        }
      ]
    },
    {
      "metadata": {
        "id": "5SJlRNuMGUqN",
        "colab_type": "code",
        "colab": {
          "autoexec": {
            "startup": false,
            "wait_interval": 0
          },
          "base_uri": "https://localhost:8080/",
          "height": 34
        },
        "outputId": "6147fe1c-2114-4801-b82e-262b8a7c638a",
        "executionInfo": {
          "status": "ok",
          "timestamp": 1522858672415,
          "user_tz": -120,
          "elapsed": 705,
          "user": {
            "displayName": "Štěpán Hojdar",
            "photoUrl": "//lh4.googleusercontent.com/-5rDXA_8cvxY/AAAAAAAAAAI/AAAAAAAAAJE/98aexWZzxoA/s50-c-k-no/photo.jpg",
            "userId": "102759379961150890704"
          }
        }
      },
      "cell_type": "code",
      "source": [
        "print(acc)"
      ],
      "execution_count": 0,
      "outputs": [
        {
          "output_type": "stream",
          "text": [
            "0.9286\n"
          ],
          "name": "stdout"
        }
      ]
    }
  ]
}